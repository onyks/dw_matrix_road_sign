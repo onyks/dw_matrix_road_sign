{
  "nbformat": 4,
  "nbformat_minor": 0,
  "metadata": {
    "colab": {
      "name": "Day5_matrix3.ipynb",
      "provenance": [],
      "mount_file_id": "1iK1xeeK-ZxHmOMHCnRVOrVU2t9Xkz1LZ",
      "authorship_tag": "ABX9TyN6/RHIam+6HPS8V+bNyFFm"
    },
    "kernelspec": {
      "name": "python3",
      "display_name": "Python 3"
    },
    "accelerator": "GPU"
  },
  "cells": [
    {
      "cell_type": "code",
      "metadata": {
        "id": "oyqoDZMembOc",
        "colab_type": "code",
        "colab": {
          "base_uri": "https://localhost:8080/",
          "height": 51
        },
        "outputId": "7daed7c2-7f39-42c5-d6ad-2598f7c31c17"
      },
      "source": [
        "import pandas as pd\n",
        "import matplotlib.pyplot as plt\n",
        "import numpy as np\n",
        "import tensorflow as tf\n",
        "from tensorflow.keras.models import Sequential\n",
        "from tensorflow.keras.utils import to_categorical\n",
        "from tensorflow.keras.layers import Conv2D, MaxPool2D, Dense, Flatten, Dropout\n",
        "\n",
        "import os\n",
        "import datetime\n",
        "%load_ext tensorboard\n",
        "from skimage import color, exposure\n",
        "from sklearn.metrics import accuracy_score\n",
        "from hyperopt import hp, STATUS_OK, tpe, Trials,fmin"
      ],
      "execution_count": 16,
      "outputs": [
        {
          "output_type": "stream",
          "text": [
            "The tensorboard extension is already loaded. To reload it, use:\n",
            "  %reload_ext tensorboard\n"
          ],
          "name": "stdout"
        }
      ]
    },
    {
      "cell_type": "code",
      "metadata": {
        "id": "ufMiFe7jnAii",
        "colab_type": "code",
        "colab": {
          "base_uri": "https://localhost:8080/",
          "height": 34
        },
        "outputId": "e0ed02d3-cb1c-42dc-bfd8-81beaaf6019f"
      },
      "source": [
        "cd '/content/drive/My Drive/Colab Notebooks/matrix/matrix_three/'"
      ],
      "execution_count": 2,
      "outputs": [
        {
          "output_type": "stream",
          "text": [
            "/content/drive/My Drive/Colab Notebooks/matrix/matrix_three\n"
          ],
          "name": "stdout"
        }
      ]
    },
    {
      "cell_type": "code",
      "metadata": {
        "id": "iVu9kR_DnCRH",
        "colab_type": "code",
        "colab": {
          "base_uri": "https://localhost:8080/",
          "height": 34
        },
        "outputId": "3f701116-7b96-4a5a-bd34-6bd2e66dfa0d"
      },
      "source": [
        "cd dw_matrix_road_sign/"
      ],
      "execution_count": 3,
      "outputs": [
        {
          "output_type": "stream",
          "text": [
            "/content/drive/My Drive/Colab Notebooks/matrix/matrix_three/dw_matrix_road_sign\n"
          ],
          "name": "stdout"
        }
      ]
    },
    {
      "cell_type": "code",
      "metadata": {
        "id": "mXGTHFcLnDon",
        "colab_type": "code",
        "colab": {
          "base_uri": "https://localhost:8080/",
          "height": 34
        },
        "outputId": "51f9445b-d641-4ff4-c9aa-4087cd68a1b4"
      },
      "source": [
        "ls"
      ],
      "execution_count": 4,
      "outputs": [
        {
          "output_type": "stream",
          "text": [
            "\u001b[0m\u001b[01;34mdata\u001b[0m/  day2_matrix3.ipynb  Day3_matrix3.ipynb  LICENSE  \u001b[01;34mlogs\u001b[0m/  README.md\n"
          ],
          "name": "stdout"
        }
      ]
    },
    {
      "cell_type": "code",
      "metadata": {
        "id": "91zIWebknFSH",
        "colab_type": "code",
        "colab": {}
      },
      "source": [
        "train = pd.read_pickle('data/train.p')\n",
        "test = pd.read_pickle('data/test.p')\n",
        "\n",
        "X_train, y_train = train['features'], train['labels']\n",
        "X_test, y_test = test['features'], test['labels']"
      ],
      "execution_count": 0,
      "outputs": []
    },
    {
      "cell_type": "code",
      "metadata": {
        "id": "JpdRy3ynnRru",
        "colab_type": "code",
        "colab": {}
      },
      "source": [
        "df=pd.read_csv('data/signnames.csv')\n",
        "labels_dict=df.to_dict()['b']"
      ],
      "execution_count": 0,
      "outputs": []
    },
    {
      "cell_type": "code",
      "metadata": {
        "id": "Lg92vrTKoO8G",
        "colab_type": "code",
        "colab": {}
      },
      "source": [
        "if y_train.ndim == 1: y_train = to_categorical(y_train)\n",
        "if y_test.ndim == 1: y_test = to_categorical(y_test)\n",
        "input_shape=X_train.shape[1:]\n",
        "num_classes = y_train.shape[1]"
      ],
      "execution_count": 0,
      "outputs": []
    },
    {
      "cell_type": "code",
      "metadata": {
        "id": "Jq_GlviPoS6N",
        "colab_type": "code",
        "colab": {
          "base_uri": "https://localhost:8080/",
          "height": 34
        },
        "outputId": "493bda56-a75f-4f31-d365-2b7e2b44fb2b"
      },
      "source": [
        "test['features'][1].shape"
      ],
      "execution_count": 8,
      "outputs": [
        {
          "output_type": "execute_result",
          "data": {
            "text/plain": [
              "(32, 32, 3)"
            ]
          },
          "metadata": {
            "tags": []
          },
          "execution_count": 8
        }
      ]
    },
    {
      "cell_type": "code",
      "metadata": {
        "id": "qbAJw8ISpCmM",
        "colab_type": "code",
        "colab": {}
      },
      "source": [
        "def train_model(model, X_train, y_train,params_fit={}):\n",
        "  model.compile(loss='categorical_crossentropy', optimizer = 'Adam', metrics=['accuracy'])\n",
        "    \n",
        "  logdir= os.path.join(\"logs\", datetime.datetime.now().strftime(\"Y%m%d-%D%M%S\")) #siceżka do katlogu z logami\n",
        "  tensorboard_callback = tf.keras.callbacks.TensorBoard(logdir, histogram_freq=1) \n",
        "\n",
        "  model.fit(\n",
        "      X_train, \n",
        "      y_train,\n",
        "      batch_size=params_fit.get('batch_size', 128), #dzielenie danych na paczki \n",
        "      epochs=params_fit.get('epochs', 5),\n",
        "      verbose= params_fit.get('verbose', 1), #wypisanie stanu\n",
        "      validation_data=params_fit.get('validation_data', (X_train,y_train)),\n",
        "      callbacks=[tensorboard_callback] \n",
        "  )\n",
        "\n",
        "  return model"
      ],
      "execution_count": 0,
      "outputs": []
    },
    {
      "cell_type": "code",
      "metadata": {
        "id": "rCV71-uQqwsW",
        "colab_type": "code",
        "colab": {}
      },
      "source": [
        "def predict(model_trained, X_test, y_test, scoring=accuracy_score):\n",
        "\n",
        "  y_test_norm = np.argmax(y_test, axis=1)\n",
        "\n",
        "  y_pred_prob = model_trained.predict(X_test)\n",
        "  y_pred= np.argmax(y_pred_prob, axis=1) #np.argmaxindex max wartości\n",
        "\n",
        "  return accuracy_score(y_test_norm, y_pred)"
      ],
      "execution_count": 0,
      "outputs": []
    },
    {
      "cell_type": "code",
      "metadata": {
        "id": "Z3Yleu3Cqy7t",
        "colab_type": "code",
        "colab": {}
      },
      "source": [
        "def gen_cnn_v5(input_shape, num_classes):\n",
        "  return  Sequential([\n",
        "  Conv2D(filters=32, kernel_size=(3,3), activation='relu', input_shape=input_shape),\n",
        "  Conv2D(filters=32, kernel_size=(3,3), activation='relu', input_shape=input_shape,padding='same'),\n",
        "  MaxPool2D(),\n",
        "  Dropout(0.3), #dropout zpobiega przseuczaniu\n",
        "  \n",
        "\n",
        "  Conv2D(filters=64, kernel_size=(3,3), activation='relu',padding='same'),\n",
        "  Conv2D(filters=64, kernel_size=(3,3), activation='relu'),\n",
        "  MaxPool2D(),\n",
        "  Dropout(0.3),\n",
        "\n",
        "  Conv2D(filters=64, kernel_size=(3,3), activation='relu', padding='same'),\n",
        "  Conv2D(filters=64, kernel_size=(3,3), activation='relu'),\n",
        "  MaxPool2D(),\n",
        "  Dropout(0.3),\n",
        "\n",
        "  Flatten(),\n",
        "\n",
        "  Dense(1024, activation='relu'),\n",
        "  Dropout(0.3),\n",
        "\n",
        "  Dense(1024, activation='relu'),\n",
        "  Dropout(0.3),\n",
        "\n",
        "  Dense(num_classes, activation='softmax'),\n",
        "  ])\n",
        "\n",
        "#gen_cnn_v4(input_shape, num_classes).summary()"
      ],
      "execution_count": 0,
      "outputs": []
    },
    {
      "cell_type": "code",
      "metadata": {
        "id": "fOYBCxeurLjF",
        "colab_type": "code",
        "colab": {
          "base_uri": "https://localhost:8080/",
          "height": 204
        },
        "outputId": "ad306ae7-2347-4531-c01e-f0ce36526282"
      },
      "source": [
        "model = gen_cnn_v5(input_shape, num_classes)\n",
        "model_trained=train_model(model, X_train, y_train, params_fit={})\n",
        "predict(model_trained, X_test,y_test)"
      ],
      "execution_count": 13,
      "outputs": [
        {
          "output_type": "stream",
          "text": [
            "Epoch 1/5\n",
            "272/272 [==============================] - 5s 17ms/step - loss: 2.2655 - accuracy: 0.3556 - val_loss: 0.8588 - val_accuracy: 0.7366\n",
            "Epoch 2/5\n",
            "272/272 [==============================] - 4s 16ms/step - loss: 0.7199 - accuracy: 0.7704 - val_loss: 0.1730 - val_accuracy: 0.9498\n",
            "Epoch 3/5\n",
            "272/272 [==============================] - 4s 16ms/step - loss: 0.3397 - accuracy: 0.8963 - val_loss: 0.0725 - val_accuracy: 0.9790\n",
            "Epoch 4/5\n",
            "272/272 [==============================] - 4s 15ms/step - loss: 0.2263 - accuracy: 0.9328 - val_loss: 0.0421 - val_accuracy: 0.9885\n",
            "Epoch 5/5\n",
            "272/272 [==============================] - 4s 15ms/step - loss: 0.1747 - accuracy: 0.9477 - val_loss: 0.0314 - val_accuracy: 0.9911\n"
          ],
          "name": "stdout"
        },
        {
          "output_type": "execute_result",
          "data": {
            "text/plain": [
              "0.9691609977324263"
            ]
          },
          "metadata": {
            "tags": []
          },
          "execution_count": 13
        }
      ]
    },
    {
      "cell_type": "code",
      "metadata": {
        "id": "ROzCmhgnrXJk",
        "colab_type": "code",
        "colab": {}
      },
      "source": [
        "def func_obj(params):\n",
        "  model=gen_cnn_v5(input_shape, num_classes)\n",
        "  model.compile(loss='categorical_crossentropy', optimizer = 'Adam', metrics=['accuracy'])\n",
        "    \n",
        "  model.fit(\n",
        "      X_train, \n",
        "      y_train,\n",
        "      batch_size=int(params.get('batch_size', 128)), #dzielenie danych na paczki \n",
        "      epochs=7,\n",
        "      verbose= 0, #wypisanie stanu\n",
        "  )\n",
        "  accuracy=model.evaluate(X_test, y_test)[0]\n",
        "  print(params, 'accuracy={}'.format(accuracy))\n",
        "  return {'loss': -accuracy, 'status':STATUS_OK, 'model':model}"
      ],
      "execution_count": 0,
      "outputs": []
    },
    {
      "cell_type": "code",
      "metadata": {
        "id": "yArN2oLhsiQb",
        "colab_type": "code",
        "colab": {
          "base_uri": "https://localhost:8080/",
          "height": 459
        },
        "outputId": "f2330a8d-8c19-43e6-9d45-51c7d0a39ef1"
      },
      "source": [
        "space= {\n",
        "    'batch_size':hp.quniform('batch_size', 50, 200, 20)\n",
        "}\n",
        "\n",
        "best=fmin(\n",
        "    func_obj,\n",
        "    space,\n",
        "    tpe.suggest,\n",
        "    1,\n",
        "    Trials()\n",
        ")"
      ],
      "execution_count": 24,
      "outputs": [
        {
          "output_type": "stream",
          "text": [
            "  1/138 [..............................]\n",
            " - ETA: 0s - loss: 0.3448 - accuracy: 0.8438\n",
            "\b\b\b\b\b\b\b\b\b\b\b\b\b\b\b\b\b\b\b\b\b\b\b\b\b\b\b\b\b\b\b\b\b\b\b\b\b\b\b\b\b\b\b\b\b\b\b\b\b\b\b\b\b\b\b\b\b\b\b\b\b\b\b\b\b\b\b\b\b\b\b\b\b\b\b\b\b\b\b\b\b\b\b\b\n",
            " 11/138 [=>............................]\n",
            " - ETA: 0s - loss: 0.1067 - accuracy: 0.9631\n",
            "\b\b\b\b\b\b\b\b\b\b\b\b\b\b\b\b\b\b\b\b\b\b\b\b\b\b\b\b\b\b\b\b\b\b\b\b\b\b\b\b\b\b\b\b\b\b\b\b\b\b\b\b\b\b\b\b\b\b\b\b\b\b\b\b\b\b\b\b\b\b\b\b\b\b\b\b\b\b\b\b\b\b\b\b\n",
            " 19/138 [===>..........................]\n",
            " - ETA: 0s - loss: 0.0961 - accuracy: 0.9688\n",
            "\b\b\b\b\b\b\b\b\b\b\b\b\b\b\b\b\b\b\b\b\b\b\b\b\b\b\b\b\b\b\b\b\b\b\b\b\b\b\b\b\b\b\b\b\b\b\b\b\b\b\b\b\b\b\b\b\b\b\b\b\b\b\b\b\b\b\b\b\b\b\b\b\b\b\b\b\b\b\b\b\b\b\b\b\n",
            " 26/138 [====>.........................]\n",
            " - ETA: 0s - loss: 0.2667 - accuracy: 0.9303\n",
            "\b\b\b\b\b\b\b\b\b\b\b\b\b\b\b\b\b\b\b\b\b\b\b\b\b\b\b\b\b\b\b\b\b\b\b\b\b\b\b\b\b\b\b\b\b\b\b\b\b\b\b\b\b\b\b\b\b\b\b\b\b\b\b\b\b\b\b\b\b\b\b\b\b\b\b\b\b\b\b\b\b\b\b\b\n",
            " 34/138 [======>.......................]\n",
            " - ETA: 0s - loss: 0.2079 - accuracy: 0.9449\n",
            "\b\b\b\b\b\b\b\b\b\b\b\b\b\b\b\b\b\b\b\b\b\b\b\b\b\b\b\b\b\b\b\b\b\b\b\b\b\b\b\b\b\b\b\b\b\b\b\b\b\b\b\b\b\b\b\b\b\b\b\b\b\b\b\b\b\b\b\b\b\b\b\b\b\b\b\b\b\b\b\b\b\b\b\b\n",
            " 41/138 [=======>......................]\n",
            " - ETA: 0s - loss: 0.1798 - accuracy: 0.9520\n",
            "\b\b\b\b\b\b\b\b\b\b\b\b\b\b\b\b\b\b\b\b\b\b\b\b\b\b\b\b\b\b\b\b\b\b\b\b\b\b\b\b\b\b\b\b\b\b\b\b\b\b\b\b\b\b\b\b\b\b\b\b\b\b\b\b\b\b\b\b\b\b\b\b\b\b\b\b\b\b\b\b\b\b\b\b\n",
            " 48/138 [=========>....................]\n",
            " - ETA: 0s - loss: 0.1918 - accuracy: 0.9460\n",
            "\b\b\b\b\b\b\b\b\b\b\b\b\b\b\b\b\b\b\b\b\b\b\b\b\b\b\b\b\b\b\b\b\b\b\b\b\b\b\b\b\b\b\b\b\b\b\b\b\b\b\b\b\b\b\b\b\b\b\b\b\b\b\b\b\b\b\b\b\b\b\b\b\b\b\b\b\b\b\b\b\b\b\b\b\n",
            " 55/138 [==========>...................]\n",
            " - ETA: 0s - loss: 0.1693 - accuracy: 0.9528\n",
            "\b\b\b\b\b\b\b\b\b\b\b\b\b\b\b\b\b\b\b\b\b\b\b\b\b\b\b\b\b\b\b\b\b\b\b\b\b\b\b\b\b\b\b\b\b\b\b\b\b\b\b\b\b\b\b\b\b\b\b\b\b\b\b\b\b\b\b\b\b\b\b\b\b\b\b\b\b\b\b\b\b\b\b\b\n",
            " 60/138 [============>.................]\n",
            " - ETA: 0s - loss: 0.1610 - accuracy: 0.9547\n",
            "\b\b\b\b\b\b\b\b\b\b\b\b\b\b\b\b\b\b\b\b\b\b\b\b\b\b\b\b\b\b\b\b\b\b\b\b\b\b\b\b\b\b\b\b\b\b\b\b\b\b\b\b\b\b\b\b\b\b\b\b\b\b\b\b\b\b\b\b\b\b\b\b\b\b\b\b\b\b\b\b\b\b\b\b\n",
            " 67/138 [=============>................]\n",
            " - ETA: 0s - loss: 0.1707 - accuracy: 0.9473\n",
            "\b\b\b\b\b\b\b\b\b\b\b\b\b\b\b\b\b\b\b\b\b\b\b\b\b\b\b\b\b\b\b\b\b\b\b\b\b\b\b\b\b\b\b\b\b\b\b\b\b\b\b\b\b\b\b\b\b\b\b\b\b\b\b\b\b\b\b\b\b\b\b\b\b\b\b\b\b\b\b\b\b\b\b\b\n",
            " 75/138 [===============>..............]\n",
            " - ETA: 0s - loss: 0.1531 - accuracy: 0.9525\n",
            "\b\b\b\b\b\b\b\b\b\b\b\b\b\b\b\b\b\b\b\b\b\b\b\b\b\b\b\b\b\b\b\b\b\b\b\b\b\b\b\b\b\b\b\b\b\b\b\b\b\b\b\b\b\b\b\b\b\b\b\b\b\b\b\b\b\b\b\b\b\b\b\b\b\b\b\b\b\b\b\b\b\b\b\b\n",
            " 83/138 [=================>............]\n",
            " - ETA: 0s - loss: 0.1430 - accuracy: 0.9552\n",
            "\b\b\b\b\b\b\b\b\b\b\b\b\b\b\b\b\b\b\b\b\b\b\b\b\b\b\b\b\b\b\b\b\b\b\b\b\b\b\b\b\b\b\b\b\b\b\b\b\b\b\b\b\b\b\b\b\b\b\b\b\b\b\b\b\b\b\b\b\b\b\b\b\b\b\b\b\b\b\b\b\b\b\b\b\n",
            " 90/138 [==================>...........]\n",
            " - ETA: 0s - loss: 0.1474 - accuracy: 0.9563\n",
            "\b\b\b\b\b\b\b\b\b\b\b\b\b\b\b\b\b\b\b\b\b\b\b\b\b\b\b\b\b\b\b\b\b\b\b\b\b\b\b\b\b\b\b\b\b\b\b\b\b\b\b\b\b\b\b\b\b\b\b\b\b\b\b\b\b\b\b\b\b\b\b\b\b\b\b\b\b\b\b\b\b\b\b\b\n",
            " 97/138 [====================>.........]\n",
            " - ETA: 0s - loss: 0.1368 - accuracy: 0.9594\n",
            "\b\b\b\b\b\b\b\b\b\b\b\b\b\b\b\b\b\b\b\b\b\b\b\b\b\b\b\b\b\b\b\b\b\b\b\b\b\b\b\b\b\b\b\b\b\b\b\b\b\b\b\b\b\b\b\b\b\b\b\b\b\b\b\b\b\b\b\b\b\b\b\b\b\b\b\b\b\b\b\b\b\b\b\b\n",
            "103/138 [=====================>........]\n",
            " - ETA: 0s - loss: 0.1470 - accuracy: 0.9587\n",
            "\b\b\b\b\b\b\b\b\b\b\b\b\b\b\b\b\b\b\b\b\b\b\b\b\b\b\b\b\b\b\b\b\b\b\b\b\b\b\b\b\b\b\b\b\b\b\b\b\b\b\b\b\b\b\b\b\b\b\b\b\b\b\b\b\b\b\b\b\b\b\b\b\b\b\b\b\b\b\b\b\b\b\b\b\n",
            "112/138 [=======================>......]\n",
            " - ETA: 0s - loss: 0.1428 - accuracy: 0.9601\n",
            "\b\b\b\b\b\b\b\b\b\b\b\b\b\b\b\b\b\b\b\b\b\b\b\b\b\b\b\b\b\b\b\b\b\b\b\b\b\b\b\b\b\b\b\b\b\b\b\b\b\b\b\b\b\b\b\b\b\b\b\b\b\b\b\b\b\b\b\b\b\b\b\b\b\b\b\b\b\b\b\b\b\b\b\b\n",
            "119/138 [========================>.....]\n",
            " - ETA: 0s - loss: 0.1345 - accuracy: 0.9624\n",
            "\b\b\b\b\b\b\b\b\b\b\b\b\b\b\b\b\b\b\b\b\b\b\b\b\b\b\b\b\b\b\b\b\b\b\b\b\b\b\b\b\b\b\b\b\b\b\b\b\b\b\b\b\b\b\b\b\b\b\b\b\b\b\b\b\b\b\b\b\b\b\b\b\b\b\b\b\b\b\b\b\b\b\b\b\n",
            "123/138 [=========================>....]\n",
            " - ETA: 0s - loss: 0.1302 - accuracy: 0.9637\n",
            "\b\b\b\b\b\b\b\b\b\b\b\b\b\b\b\b\b\b\b\b\b\b\b\b\b\b\b\b\b\b\b\b\b\b\b\b\b\b\b\b\b\b\b\b\b\b\b\b\b\b\b\b\b\b\b\b\b\b\b\b\b\b\b\b\b\b\b\b\b\b\b\b\b\b\b\b\b\b\b\b\b\b\b\b\n",
            "130/138 [===========================>..]\n",
            " - ETA: 0s - loss: 0.1264 - accuracy: 0.9644\n",
            "\b\b\b\b\b\b\b\b\b\b\b\b\b\b\b\b\b\b\b\b\b\b\b\b\b\b\b\b\b\b\b\b\b\b\b\b\b\b\b\b\b\b\b\b\b\b\b\b\b\b\b\b\b\b\b\b\b\b\b\b\b\b\b\b\b\b\b\b\b\b\b\b\b\b\b\b\b\b\b\b\b\b\b\b\n",
            "138/138 [==============================]\n",
            " - ETA: 0s - loss: 0.1198 - accuracy: 0.9664\n",
            "\b\b\b\b\b\b\b\b\b\b\b\b\b\b\b\b\b\b\b\b\b\b\b\b\b\b\b\b\b\b\b\b\b\b\b\b\b\b\b\b\b\b\b\b\b\b\b\b\b\b\b\b\b\b\b\b\b\b\b\b\b\b\b\b\b\b\b\b\b\b\b\b\b\b\b\b\b\b\b\b\b\b\b\b\n",
            "138/138 [==============================]\n",
            " - 1s 7ms/step - loss: 0.1198 - accuracy: 0.9664\n",
            "\n",
            "{'batch_size': 160.0}\n",
            "accuracy=0.11979890614748001\n",
            "100%|██████████| 1/1 [00:14<00:00, 14.79s/it, best loss: -0.11979890614748001]\n"
          ],
          "name": "stdout"
        }
      ]
    },
    {
      "cell_type": "code",
      "metadata": {
        "id": "tTHwsx9Hw2v6",
        "colab_type": "code",
        "colab": {}
      },
      "source": [
        ""
      ],
      "execution_count": 0,
      "outputs": []
    },
    {
      "cell_type": "code",
      "metadata": {
        "id": "lxydIIfpuloo",
        "colab_type": "code",
        "colab": {}
      },
      "source": [
        "def get_model(params):\n",
        "  return  Sequential([\n",
        "  Conv2D(filters=32, kernel_size=(3,3), activation='relu', input_shape=input_shape),\n",
        "  Conv2D(filters=32, kernel_size=(3,3), activation='relu', padding='same'),\n",
        "  MaxPool2D(),\n",
        "  Dropout(params['dropout_cnn_block_one']), #dropout zpobiega przseuczaniu\n",
        "  \n",
        "\n",
        "  Conv2D(filters=64, kernel_size=(3,3), activation='relu',padding='same'),\n",
        "  Conv2D(filters=64, kernel_size=(3,3), activation='relu'),\n",
        "  MaxPool2D(),\n",
        "  Dropout(params['dropout_cnn_block_two']),\n",
        "\n",
        "  Conv2D(filters=128, kernel_size=(3,3), activation='relu', padding='same'),\n",
        "  Conv2D(filters=128, kernel_size=(3,3), activation='relu'),\n",
        "  MaxPool2D(),\n",
        "  Dropout(params['dropout_cnn_block_three']),\n",
        "\n",
        "  Flatten(),\n",
        "\n",
        "  Dense(1024, activation='relu'),\n",
        "  Dropout(params['dropout_dense_block_one']),\n",
        "\n",
        "  Dense(1024, activation='relu'),\n",
        "  Dropout(params['dropout_dense_block_two']),\n",
        "\n",
        "  Dense(num_classes, activation='softmax'),\n",
        "  ])"
      ],
      "execution_count": 0,
      "outputs": []
    },
    {
      "cell_type": "code",
      "metadata": {
        "id": "kwQBk1XFyz-V",
        "colab_type": "code",
        "colab": {}
      },
      "source": [
        "def func_obj_2(params):\n",
        "  model=get_model(params)\n",
        "  model.compile(loss='categorical_crossentropy', optimizer = 'Adam', metrics=['accuracy'])\n",
        "    \n",
        "  model.fit(\n",
        "      X_train,\n",
        "      y_train,\n",
        "      batch_size=int(params.get('batch_size', 128)), #dzielenie danych na paczki \n",
        "      epochs=5,\n",
        "      verbose= 0, #wypisanie stanu\n",
        "  )\n",
        "  score= model.evaluate(X_test, y_test, verbose =0)\n",
        "  accuracy=score[1]\n",
        "  print(params, 'accuracy={}'.format(accuracy))\n",
        "  return {'loss': -accuracy, 'status':STATUS_OK, 'model':model}"
      ],
      "execution_count": 0,
      "outputs": []
    },
    {
      "cell_type": "code",
      "metadata": {
        "id": "EJ6rMYUIv49z",
        "colab_type": "code",
        "colab": {
          "base_uri": "https://localhost:8080/",
          "height": 1000
        },
        "outputId": "86316cd9-fe3d-4d4c-9e64-5e11ba318388"
      },
      "source": [
        "space2= {\n",
        "    'batch_size':hp.quniform('batch_size', 50, 200, 20),\n",
        "    'dropout_cnn_block_one':hp.quniform('dropout_cnn_block_one', 0.3, 0.5, 0.1),\n",
        "    'dropout_cnn_block_two':hp.quniform('dropout_cnn_block_two', 0.3, 0.5, 0.1),\n",
        "    'dropout_cnn_block_three':hp.quniform('dropout_cnn_block_three', 0.3, 0.5, 0.1),\n",
        "\n",
        "    'dropout_dense_block_one':hp.quniform('dropout_dense_block_one', 0.3, 0.7, 0.1),\n",
        "    'dropout_dense_block_two':hp.quniform('dropout_dense_block_two', 0.3, 0.7, 0.1),\n",
        "}\n",
        "\n",
        "best=fmin(\n",
        "    func_obj_2,\n",
        "    space2,\n",
        "    tpe.suggest,\n",
        "    30,\n",
        "    Trials()\n",
        ")"
      ],
      "execution_count": 51,
      "outputs": [
        {
          "output_type": "stream",
          "text": [
            "{'batch_size': 60.0, 'dropout_cnn_block_one': 0.4, 'dropout_cnn_block_three': 0.4, 'dropout_cnn_block_two': 0.30000000000000004, 'dropout_dense_block_one': 0.4, 'dropout_dense_block_two': 0.5}\n",
            "accuracy=0.956462562084198\n",
            "{'batch_size': 200.0, 'dropout_cnn_block_one': 0.4, 'dropout_cnn_block_three': 0.4, 'dropout_cnn_block_two': 0.4, 'dropout_dense_block_one': 0.5, 'dropout_dense_block_two': 0.4}\n",
            "accuracy=0.938548743724823\n",
            "{'batch_size': 100.0, 'dropout_cnn_block_one': 0.30000000000000004, 'dropout_cnn_block_three': 0.4, 'dropout_cnn_block_two': 0.30000000000000004, 'dropout_dense_block_one': 0.6000000000000001, 'dropout_dense_block_two': 0.7000000000000001}\n",
            "accuracy=0.8795918226242065\n",
            "{'batch_size': 80.0, 'dropout_cnn_block_one': 0.4, 'dropout_cnn_block_three': 0.4, 'dropout_cnn_block_two': 0.5, 'dropout_dense_block_one': 0.5, 'dropout_dense_block_two': 0.4}\n",
            "accuracy=0.9387755393981934\n",
            "{'batch_size': 80.0, 'dropout_cnn_block_one': 0.30000000000000004, 'dropout_cnn_block_three': 0.4, 'dropout_cnn_block_two': 0.4, 'dropout_dense_block_one': 0.6000000000000001, 'dropout_dense_block_two': 0.5}\n",
            "accuracy=0.956462562084198\n",
            "{'batch_size': 160.0, 'dropout_cnn_block_one': 0.5, 'dropout_cnn_block_three': 0.5, 'dropout_cnn_block_two': 0.30000000000000004, 'dropout_dense_block_one': 0.4, 'dropout_dense_block_two': 0.7000000000000001}\n",
            "accuracy=0.8800453543663025\n",
            "{'batch_size': 180.0, 'dropout_cnn_block_one': 0.4, 'dropout_cnn_block_three': 0.30000000000000004, 'dropout_cnn_block_two': 0.5, 'dropout_dense_block_one': 0.30000000000000004, 'dropout_dense_block_two': 0.30000000000000004}\n",
            "accuracy=0.899092972278595\n",
            "{'batch_size': 180.0, 'dropout_cnn_block_one': 0.4, 'dropout_cnn_block_three': 0.5, 'dropout_cnn_block_two': 0.4, 'dropout_dense_block_one': 0.6000000000000001, 'dropout_dense_block_two': 0.5}\n",
            "accuracy=0.9156462550163269\n",
            "{'batch_size': 180.0, 'dropout_cnn_block_one': 0.4, 'dropout_cnn_block_three': 0.30000000000000004, 'dropout_cnn_block_two': 0.30000000000000004, 'dropout_dense_block_one': 0.30000000000000004, 'dropout_dense_block_two': 0.5}\n",
            "accuracy=0.9312925338745117\n",
            "{'batch_size': 160.0, 'dropout_cnn_block_one': 0.30000000000000004, 'dropout_cnn_block_three': 0.5, 'dropout_cnn_block_two': 0.30000000000000004, 'dropout_dense_block_one': 0.5, 'dropout_dense_block_two': 0.5}\n",
            "accuracy=0.9691609740257263\n",
            "{'batch_size': 160.0, 'dropout_cnn_block_one': 0.4, 'dropout_cnn_block_three': 0.4, 'dropout_cnn_block_two': 0.5, 'dropout_dense_block_one': 0.6000000000000001, 'dropout_dense_block_two': 0.7000000000000001}\n",
            "accuracy=0.8428571224212646\n",
            "{'batch_size': 200.0, 'dropout_cnn_block_one': 0.30000000000000004, 'dropout_cnn_block_three': 0.5, 'dropout_cnn_block_two': 0.4, 'dropout_dense_block_one': 0.7000000000000001, 'dropout_dense_block_two': 0.5}\n",
            "accuracy=0.855555534362793\n",
            "{'batch_size': 140.0, 'dropout_cnn_block_one': 0.30000000000000004, 'dropout_cnn_block_three': 0.5, 'dropout_cnn_block_two': 0.4, 'dropout_dense_block_one': 0.30000000000000004, 'dropout_dense_block_two': 0.5}\n",
            "accuracy=0.9342403411865234\n",
            "{'batch_size': 100.0, 'dropout_cnn_block_one': 0.5, 'dropout_cnn_block_three': 0.5, 'dropout_cnn_block_two': 0.4, 'dropout_dense_block_one': 0.6000000000000001, 'dropout_dense_block_two': 0.5}\n",
            "accuracy=0.7673469185829163\n",
            "{'batch_size': 120.0, 'dropout_cnn_block_one': 0.30000000000000004, 'dropout_cnn_block_three': 0.4, 'dropout_cnn_block_two': 0.4, 'dropout_dense_block_one': 0.6000000000000001, 'dropout_dense_block_two': 0.4}\n",
            "accuracy=0.956916093826294\n",
            "{'batch_size': 100.0, 'dropout_cnn_block_one': 0.4, 'dropout_cnn_block_three': 0.30000000000000004, 'dropout_cnn_block_two': 0.30000000000000004, 'dropout_dense_block_one': 0.7000000000000001, 'dropout_dense_block_two': 0.7000000000000001}\n",
            "accuracy=0.8360544443130493\n",
            "{'batch_size': 160.0, 'dropout_cnn_block_one': 0.5, 'dropout_cnn_block_three': 0.4, 'dropout_cnn_block_two': 0.4, 'dropout_dense_block_one': 0.6000000000000001, 'dropout_dense_block_two': 0.7000000000000001}\n",
            "accuracy=0.5331065654754639\n",
            "{'batch_size': 120.0, 'dropout_cnn_block_one': 0.4, 'dropout_cnn_block_three': 0.5, 'dropout_cnn_block_two': 0.4, 'dropout_dense_block_one': 0.5, 'dropout_dense_block_two': 0.5}\n",
            "accuracy=0.945805013179779\n",
            "{'batch_size': 100.0, 'dropout_cnn_block_one': 0.30000000000000004, 'dropout_cnn_block_three': 0.4, 'dropout_cnn_block_two': 0.5, 'dropout_dense_block_one': 0.6000000000000001, 'dropout_dense_block_two': 0.30000000000000004}\n",
            "accuracy=0.9594104290008545\n",
            "{'batch_size': 200.0, 'dropout_cnn_block_one': 0.4, 'dropout_cnn_block_three': 0.30000000000000004, 'dropout_cnn_block_two': 0.4, 'dropout_dense_block_one': 0.6000000000000001, 'dropout_dense_block_two': 0.5}\n",
            "accuracy=0.9263038635253906\n",
            "{'batch_size': 140.0, 'dropout_cnn_block_one': 0.30000000000000004, 'dropout_cnn_block_three': 0.5, 'dropout_cnn_block_two': 0.5, 'dropout_dense_block_one': 0.4, 'dropout_dense_block_two': 0.6000000000000001}\n",
            "accuracy=0.6346938610076904\n",
            "{'batch_size': 140.0, 'dropout_cnn_block_one': 0.30000000000000004, 'dropout_cnn_block_three': 0.30000000000000004, 'dropout_cnn_block_two': 0.5, 'dropout_dense_block_one': 0.7000000000000001, 'dropout_dense_block_two': 0.6000000000000001}\n",
            "accuracy=0.902721107006073\n",
            "{'batch_size': 60.0, 'dropout_cnn_block_one': 0.30000000000000004, 'dropout_cnn_block_three': 0.5, 'dropout_cnn_block_two': 0.5, 'dropout_dense_block_one': 0.5, 'dropout_dense_block_two': 0.30000000000000004}\n",
            "accuracy=0.9453514814376831\n",
            "{'batch_size': 80.0, 'dropout_cnn_block_one': 0.30000000000000004, 'dropout_cnn_block_three': 0.30000000000000004, 'dropout_cnn_block_two': 0.30000000000000004, 'dropout_dense_block_one': 0.4, 'dropout_dense_block_two': 0.6000000000000001}\n",
            "accuracy=0.9773242473602295\n",
            "{'batch_size': 80.0, 'dropout_cnn_block_one': 0.30000000000000004, 'dropout_cnn_block_three': 0.30000000000000004, 'dropout_cnn_block_two': 0.30000000000000004, 'dropout_dense_block_one': 0.4, 'dropout_dense_block_two': 0.6000000000000001}\n",
            "accuracy=0.9632652997970581\n",
            "{'batch_size': 60.0, 'dropout_cnn_block_one': 0.30000000000000004, 'dropout_cnn_block_three': 0.30000000000000004, 'dropout_cnn_block_two': 0.30000000000000004, 'dropout_dense_block_one': 0.4, 'dropout_dense_block_two': 0.6000000000000001}\n",
            "accuracy=0.9607709646224976\n",
            "{'batch_size': 120.0, 'dropout_cnn_block_one': 0.30000000000000004, 'dropout_cnn_block_three': 0.30000000000000004, 'dropout_cnn_block_two': 0.30000000000000004, 'dropout_dense_block_one': 0.4, 'dropout_dense_block_two': 0.6000000000000001}\n",
            "accuracy=0.9743764400482178\n",
            "{'batch_size': 120.0, 'dropout_cnn_block_one': 0.30000000000000004, 'dropout_cnn_block_three': 0.30000000000000004, 'dropout_cnn_block_two': 0.30000000000000004, 'dropout_dense_block_one': 0.30000000000000004, 'dropout_dense_block_two': 0.6000000000000001}\n",
            "accuracy=0.9668934345245361\n",
            "{'batch_size': 60.0, 'dropout_cnn_block_one': 0.5, 'dropout_cnn_block_three': 0.30000000000000004, 'dropout_cnn_block_two': 0.30000000000000004, 'dropout_dense_block_one': 0.4, 'dropout_dense_block_two': 0.6000000000000001}\n",
            "accuracy=0.8959183692932129\n",
            "{'batch_size': 80.0, 'dropout_cnn_block_one': 0.30000000000000004, 'dropout_cnn_block_three': 0.30000000000000004, 'dropout_cnn_block_two': 0.30000000000000004, 'dropout_dense_block_one': 0.30000000000000004, 'dropout_dense_block_two': 0.6000000000000001}\n",
            "accuracy=0.9628117680549622\n",
            "100%|██████████| 30/30 [06:24<00:00, 12.82s/it, best loss: -0.9773242473602295]\n"
          ],
          "name": "stdout"
        }
      ]
    },
    {
      "cell_type": "code",
      "metadata": {
        "id": "S-1Ey8wqxQ9Z",
        "colab_type": "code",
        "colab": {
          "base_uri": "https://localhost:8080/",
          "height": 119
        },
        "outputId": "9db2d080-98fc-405d-ff1e-d9ae999f7ffa"
      },
      "source": [
        "best"
      ],
      "execution_count": 52,
      "outputs": [
        {
          "output_type": "execute_result",
          "data": {
            "text/plain": [
              "{'batch_size': 80.0,\n",
              " 'dropout_cnn_block_one': 0.30000000000000004,\n",
              " 'dropout_cnn_block_three': 0.30000000000000004,\n",
              " 'dropout_cnn_block_two': 0.30000000000000004,\n",
              " 'dropout_dense_block_one': 0.4,\n",
              " 'dropout_dense_block_two': 0.6000000000000001}"
            ]
          },
          "metadata": {
            "tags": []
          },
          "execution_count": 52
        }
      ]
    }
  ]
}
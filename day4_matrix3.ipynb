{
  "nbformat": 4,
  "nbformat_minor": 0,
  "metadata": {
    "colab": {
      "name": "day4_matrix3.ipynb",
      "provenance": [],
      "collapsed_sections": [],
      "mount_file_id": "1XVjm84KZtRa3W0F4ARp-FM2gw49ya4p8",
      "authorship_tag": "ABX9TyPi29YmEQ/dCEvKevd3mLpT"
    },
    "kernelspec": {
      "name": "python3",
      "display_name": "Python 3"
    },
    "accelerator": "GPU"
  },
  "cells": [
    {
      "cell_type": "code",
      "metadata": {
        "id": "PFu71sSbadqi",
        "colab_type": "code",
        "colab": {}
      },
      "source": [
        "import pandas as pd\n",
        "import matplotlib.pyplot as plt\n",
        "import numpy as np\n",
        "import tensorflow as tf\n",
        "from tensorflow.keras.models import Sequential\n",
        "from tensorflow.keras.utils import to_categorical\n",
        "from tensorflow.keras.layers import Conv2D, MaxPool2D, Dense, Flatten, Dropout\n",
        "\n",
        "import os\n",
        "import datetime\n",
        "%load_ext tensorboard\n",
        "from skimage import color, exposure\n",
        "from sklearn.metrics import accuracy_score"
      ],
      "execution_count": 0,
      "outputs": []
    },
    {
      "cell_type": "code",
      "metadata": {
        "id": "SucP6Z8wdUbX",
        "colab_type": "code",
        "colab": {
          "base_uri": "https://localhost:8080/",
          "height": 34
        },
        "outputId": "da22889f-5edf-47cc-b0b8-bf95dd3146f0"
      },
      "source": [
        "cd '/content/drive/My Drive/Colab Notebooks/matrix/matrix_three/'"
      ],
      "execution_count": 3,
      "outputs": [
        {
          "output_type": "stream",
          "text": [
            "/content/drive/My Drive/Colab Notebooks/matrix/matrix_three\n"
          ],
          "name": "stdout"
        }
      ]
    },
    {
      "cell_type": "code",
      "metadata": {
        "id": "TE1LuscydU9L",
        "colab_type": "code",
        "colab": {
          "base_uri": "https://localhost:8080/",
          "height": 34
        },
        "outputId": "1854d7f0-ac52-403a-efb7-485907b223d3"
      },
      "source": [
        "cd dw_matrix_road_sign/"
      ],
      "execution_count": 4,
      "outputs": [
        {
          "output_type": "stream",
          "text": [
            "/content/drive/My Drive/Colab Notebooks/matrix/matrix_three/dw_matrix_road_sign\n"
          ],
          "name": "stdout"
        }
      ]
    },
    {
      "cell_type": "code",
      "metadata": {
        "id": "BlqYowoFdY_S",
        "colab_type": "code",
        "colab": {
          "base_uri": "https://localhost:8080/",
          "height": 34
        },
        "outputId": "40cefdef-8104-4da8-ac7f-d273d7f76da8"
      },
      "source": [
        "ls"
      ],
      "execution_count": 5,
      "outputs": [
        {
          "output_type": "stream",
          "text": [
            "\u001b[0m\u001b[01;34mdata\u001b[0m/  day2_matrix3.ipynb  Day3_matrix3.ipynb  LICENSE  \u001b[01;34mlogs\u001b[0m/  README.md\n"
          ],
          "name": "stdout"
        }
      ]
    },
    {
      "cell_type": "code",
      "metadata": {
        "id": "WkLClijidaLK",
        "colab_type": "code",
        "colab": {}
      },
      "source": [
        "train = pd.read_pickle('data/train.p')\n",
        "test = pd.read_pickle('data/test.p')\n",
        "\n",
        "X_train, y_train = train['features'], train['labels']\n",
        "X_test, y_test = test['features'], test['labels']\n"
      ],
      "execution_count": 0,
      "outputs": []
    },
    {
      "cell_type": "code",
      "metadata": {
        "id": "ACWHi1uEf7qw",
        "colab_type": "code",
        "colab": {}
      },
      "source": [
        "df=pd.read_csv('data/signnames.csv')\n",
        "labels_dict=df.to_dict()['b']"
      ],
      "execution_count": 0,
      "outputs": []
    },
    {
      "cell_type": "code",
      "metadata": {
        "id": "Z_ZmmQwidldh",
        "colab_type": "code",
        "colab": {}
      },
      "source": [
        "if y_train.ndim == 1: y_train = to_categorical(y_train)\n",
        "if y_test.ndim == 1: y_test = to_categorical(y_test)"
      ],
      "execution_count": 0,
      "outputs": []
    },
    {
      "cell_type": "code",
      "metadata": {
        "id": "JxSfdlpgd16p",
        "colab_type": "code",
        "colab": {}
      },
      "source": [
        "input_shape=X_train.shape[1:]\n",
        "num_classes = y_train.shape[1]"
      ],
      "execution_count": 0,
      "outputs": []
    },
    {
      "cell_type": "code",
      "metadata": {
        "id": "h4hNixMOd6tZ",
        "colab_type": "code",
        "colab": {}
      },
      "source": [
        "def gen_cnn_vl(input_shape, num_classes):\n",
        "  return  Sequential([\n",
        "  Conv2D(filters=64, kernel_size=(3,3), activation='relu', input_shape=input_shape),\n",
        "\n",
        "  Flatten(),\n",
        "\n",
        "  Dense(num_classes, activation='softmax'),\n",
        "  ])\n",
        "\n",
        "def train_model(model, X_train, y_train,params_fit={}):\n",
        "  model.compile(loss='categorical_crossentropy', optimizer = 'Adam', metrics=['accuracy'])\n",
        "    \n",
        "  logdir= os.path.join(\"logs\", datetime.datetime.now().strftime(\"Y%m%d-%D%M%S\")) #siceżka do katlogu z logami\n",
        "  tensorboard_callback = tf.keras.callbacks.TensorBoard(logdir, histogram_freq=1) \n",
        "\n",
        "  model.fit(\n",
        "      X_train, \n",
        "      y_train,\n",
        "      batch_size=params_fit.get('batch_size', 128), #dzielenie danych na paczki \n",
        "      epochs=params_fit.get('epochs', 5),\n",
        "      verbose= params_fit.get('verbose', 1), #wypisanie stanu\n",
        "      validation_data=params_fit.get('validation_data', (X_train,y_train)),\n",
        "      callbacks=[tensorboard_callback] \n",
        "  )\n",
        "\n",
        "  return model"
      ],
      "execution_count": 0,
      "outputs": []
    },
    {
      "cell_type": "code",
      "metadata": {
        "id": "guuuCUXFd9Mo",
        "colab_type": "code",
        "colab": {
          "base_uri": "https://localhost:8080/",
          "height": 255
        },
        "outputId": "713267f5-aa8d-4888-95c5-47b6d0650e85"
      },
      "source": [
        "model=gen_cnn_vl(input_shape, num_classes)\n",
        "model.summary()"
      ],
      "execution_count": 11,
      "outputs": [
        {
          "output_type": "stream",
          "text": [
            "Model: \"sequential\"\n",
            "_________________________________________________________________\n",
            "Layer (type)                 Output Shape              Param #   \n",
            "=================================================================\n",
            "conv2d (Conv2D)              (None, 30, 30, 64)        1792      \n",
            "_________________________________________________________________\n",
            "flatten (Flatten)            (None, 57600)             0         \n",
            "_________________________________________________________________\n",
            "dense (Dense)                (None, 43)                2476843   \n",
            "=================================================================\n",
            "Total params: 2,478,635\n",
            "Trainable params: 2,478,635\n",
            "Non-trainable params: 0\n",
            "_________________________________________________________________\n"
          ],
          "name": "stdout"
        }
      ]
    },
    {
      "cell_type": "code",
      "metadata": {
        "id": "YeN4rztmeHtg",
        "colab_type": "code",
        "colab": {
          "base_uri": "https://localhost:8080/",
          "height": 187
        },
        "outputId": "0761930f-3733-46e1-c5de-eb11b42118bc"
      },
      "source": [
        "model_trained_1 = train_model(model, X_train, y_train)"
      ],
      "execution_count": 12,
      "outputs": [
        {
          "output_type": "stream",
          "text": [
            "Epoch 1/5\n",
            "272/272 [==============================] - 5s 17ms/step - loss: 33.2033 - accuracy: 0.7373 - val_loss: 0.2726 - val_accuracy: 0.9386\n",
            "Epoch 2/5\n",
            "272/272 [==============================] - 5s 17ms/step - loss: 0.2576 - accuracy: 0.9401 - val_loss: 0.1720 - val_accuracy: 0.9577\n",
            "Epoch 3/5\n",
            "272/272 [==============================] - 4s 16ms/step - loss: 0.1700 - accuracy: 0.9595 - val_loss: 0.1112 - val_accuracy: 0.9737\n",
            "Epoch 4/5\n",
            "272/272 [==============================] - 5s 17ms/step - loss: 0.1189 - accuracy: 0.9719 - val_loss: 0.0853 - val_accuracy: 0.9788\n",
            "Epoch 5/5\n",
            "272/272 [==============================] - 4s 17ms/step - loss: 0.1252 - accuracy: 0.9713 - val_loss: 0.1665 - val_accuracy: 0.9639\n"
          ],
          "name": "stdout"
        }
      ]
    },
    {
      "cell_type": "code",
      "metadata": {
        "id": "hm1689tze76p",
        "colab_type": "code",
        "colab": {}
      },
      "source": [
        "y_pred_prob = model_trained_1.predict(X_test)"
      ],
      "execution_count": 0,
      "outputs": []
    },
    {
      "cell_type": "code",
      "metadata": {
        "id": "OaqJS7anfK3b",
        "colab_type": "code",
        "colab": {
          "base_uri": "https://localhost:8080/",
          "height": 204
        },
        "outputId": "30d02fae-fc9d-44d8-8150-7051a7ffef08"
      },
      "source": [
        "y_pred_prob[400] #prodopodobienstwo wyst pierwszego znaku"
      ],
      "execution_count": 14,
      "outputs": [
        {
          "output_type": "execute_result",
          "data": {
            "text/plain": [
              "array([9.0821856e-01, 1.7404359e-02, 4.5036114e-04, 6.6162535e-08,\n",
              "       4.7590125e-02, 2.1175786e-07, 9.3465164e-19, 1.4524459e-10,\n",
              "       3.2353625e-10, 4.4863210e-03, 1.0082656e-11, 1.9618364e-11,\n",
              "       5.6881970e-22, 9.0715361e-07, 1.9367553e-11, 2.1837389e-02,\n",
              "       1.1827853e-05, 7.6117031e-23, 9.5443309e-17, 3.3747959e-26,\n",
              "       4.6099027e-12, 7.4242988e-15, 3.1989431e-22, 3.2782293e-14,\n",
              "       2.1011419e-18, 4.3621012e-10, 3.4010374e-11, 3.0802081e-23,\n",
              "       7.3961659e-13, 1.6419835e-10, 1.2783282e-23, 7.4581563e-13,\n",
              "       2.3795260e-10, 0.0000000e+00, 0.0000000e+00, 3.4328961e-21,\n",
              "       2.2634544e-37, 0.0000000e+00, 1.2845251e-25, 0.0000000e+00,\n",
              "       0.0000000e+00, 2.6766429e-22, 4.2999664e-24], dtype=float32)"
            ]
          },
          "metadata": {
            "tags": []
          },
          "execution_count": 14
        }
      ]
    },
    {
      "cell_type": "code",
      "metadata": {
        "id": "CGTJhTAVgcjV",
        "colab_type": "code",
        "colab": {}
      },
      "source": [
        "def predict(model_trained, X_test, y_test, scoring=accuracy_score):\n",
        "\n",
        "  y_test_norm = np.argmax(y_test, axis=1)\n",
        "\n",
        "  y_pred_prob = model_trained.predict(X_test)\n",
        "  y_pred= np.argmax(y_pred_prob, axis=1) #np.argmaxindex max wartości\n",
        "\n",
        "  return accuracy_score(y_test_norm, y_pred)"
      ],
      "execution_count": 0,
      "outputs": []
    },
    {
      "cell_type": "code",
      "metadata": {
        "id": "iQKDlcNMynBq",
        "colab_type": "code",
        "colab": {
          "base_uri": "https://localhost:8080/",
          "height": 34
        },
        "outputId": "ac0f0b2a-f724-4c34-b514-74375f72365f"
      },
      "source": [
        "predict(model_trained_1, X_test, y_test)"
      ],
      "execution_count": 16,
      "outputs": [
        {
          "output_type": "execute_result",
          "data": {
            "text/plain": [
              "0.7970521541950113"
            ]
          },
          "metadata": {
            "tags": []
          },
          "execution_count": 16
        }
      ]
    },
    {
      "cell_type": "code",
      "metadata": {
        "id": "hBC-Vjfa0AjV",
        "colab_type": "code",
        "colab": {}
      },
      "source": [
        "def train_and_predict(model):\n",
        "  model_trained = train_model(model, X_train, y_train)\n",
        "  return predict(model_trained, X_test, y_test)"
      ],
      "execution_count": 0,
      "outputs": []
    },
    {
      "cell_type": "code",
      "metadata": {
        "id": "Yl-S3AldzZ0O",
        "colab_type": "code",
        "colab": {
          "base_uri": "https://localhost:8080/",
          "height": 204
        },
        "outputId": "cdd0c13b-c4f4-4fb9-b591-fe365939d67a"
      },
      "source": [
        "def gen_cnn_v2(input_shape, num_classes):\n",
        "  return  Sequential([\n",
        "  Conv2D(filters=32, kernel_size=(3,3), activation='relu', input_shape=input_shape),\n",
        "  MaxPool2D(),\n",
        "  Dropout(0.3), #dropout zpobiega przseuczaniu\n",
        "  \n",
        "\n",
        "  Conv2D(filters=64, kernel_size=(3,3), activation='relu'),\n",
        "  MaxPool2D(),\n",
        "  Dropout(0.3),\n",
        "\n",
        "  Flatten(),\n",
        "\n",
        "  Dense(1024, activation='relu'),\n",
        "  Dropout(0.3),\n",
        "\n",
        "  Dense(num_classes, activation='softmax'),\n",
        "  ])\n",
        "\n",
        "train_and_predict(gen_cnn_v2(input_shape, num_classes))"
      ],
      "execution_count": 18,
      "outputs": [
        {
          "output_type": "stream",
          "text": [
            "Epoch 1/5\n",
            "272/272 [==============================] - 4s 14ms/step - loss: 7.3538 - accuracy: 0.1501 - val_loss: 2.5365 - val_accuracy: 0.3273\n",
            "Epoch 2/5\n",
            "272/272 [==============================] - 4s 13ms/step - loss: 2.0495 - accuracy: 0.4270 - val_loss: 1.0687 - val_accuracy: 0.7144\n",
            "Epoch 3/5\n",
            "272/272 [==============================] - 4s 13ms/step - loss: 1.1693 - accuracy: 0.6521 - val_loss: 0.4983 - val_accuracy: 0.8858\n",
            "Epoch 4/5\n",
            "272/272 [==============================] - 4s 13ms/step - loss: 0.7383 - accuracy: 0.7793 - val_loss: 0.2951 - val_accuracy: 0.9374\n",
            "Epoch 5/5\n",
            "272/272 [==============================] - 4s 13ms/step - loss: 0.4795 - accuracy: 0.8548 - val_loss: 0.1513 - val_accuracy: 0.9698\n"
          ],
          "name": "stdout"
        },
        {
          "output_type": "execute_result",
          "data": {
            "text/plain": [
              "0.8927437641723356"
            ]
          },
          "metadata": {
            "tags": []
          },
          "execution_count": 18
        }
      ]
    },
    {
      "cell_type": "code",
      "metadata": {
        "id": "f_vG1-KSeSQm",
        "colab_type": "code",
        "colab": {
          "base_uri": "https://localhost:8080/",
          "height": 204
        },
        "outputId": "dc56f145-da24-4112-c58c-0c3783d2a08e"
      },
      "source": [
        "def gen_cnn_v3(input_shape, num_classes):\n",
        "  return  Sequential([\n",
        "  Conv2D(filters=32, kernel_size=(3,3), activation='relu', input_shape=input_shape),\n",
        "  Conv2D(filters=32, kernel_size=(3,3), activation='relu', input_shape=input_shape),\n",
        "  MaxPool2D(),\n",
        "  Dropout(0.3), #dropout zpobiega przseuczaniu\n",
        "  \n",
        "\n",
        "  Conv2D(filters=64, kernel_size=(3,3), activation='relu'),\n",
        "  Conv2D(filters=64, kernel_size=(3,3), activation='relu'),\n",
        "  MaxPool2D(),\n",
        "  Dropout(0.3),\n",
        "\n",
        "  Flatten(),\n",
        "\n",
        "  Dense(1024, activation='relu'),\n",
        "  Dropout(0.3),\n",
        "\n",
        "  Dense(num_classes, activation='softmax'),\n",
        "  ])\n",
        "\n",
        "#gen_cnn_v3(input_shape, num_classes).summary()\n",
        "train_and_predict(gen_cnn_v3(input_shape, num_classes))"
      ],
      "execution_count": 19,
      "outputs": [
        {
          "output_type": "stream",
          "text": [
            "Epoch 1/5\n",
            "272/272 [==============================] - 5s 19ms/step - loss: 3.5969 - accuracy: 0.3187 - val_loss: 0.8176 - val_accuracy: 0.7918\n",
            "Epoch 2/5\n",
            "272/272 [==============================] - 5s 18ms/step - loss: 0.8461 - accuracy: 0.7514 - val_loss: 0.2264 - val_accuracy: 0.9510\n",
            "Epoch 3/5\n",
            "272/272 [==============================] - 5s 18ms/step - loss: 0.4188 - accuracy: 0.8742 - val_loss: 0.0863 - val_accuracy: 0.9798\n",
            "Epoch 4/5\n",
            "272/272 [==============================] - 5s 18ms/step - loss: 0.2624 - accuracy: 0.9221 - val_loss: 0.0629 - val_accuracy: 0.9819\n",
            "Epoch 5/5\n",
            "272/272 [==============================] - 5s 18ms/step - loss: 0.1864 - accuracy: 0.9431 - val_loss: 0.0434 - val_accuracy: 0.9901\n"
          ],
          "name": "stdout"
        },
        {
          "output_type": "execute_result",
          "data": {
            "text/plain": [
              "0.9519274376417234"
            ]
          },
          "metadata": {
            "tags": []
          },
          "execution_count": 19
        }
      ]
    },
    {
      "cell_type": "code",
      "metadata": {
        "id": "C3MSmstq1znf",
        "colab_type": "code",
        "colab": {
          "base_uri": "https://localhost:8080/",
          "height": 204
        },
        "outputId": "aacd81f5-981a-4a57-ed1a-d7a5538d5f9e"
      },
      "source": [
        "def gen_cnn_v4(input_shape, num_classes):\n",
        "  return  Sequential([\n",
        "  Conv2D(filters=32, kernel_size=(3,3), activation='relu', input_shape=input_shape),\n",
        "  Conv2D(filters=32, kernel_size=(3,3), activation='relu', input_shape=input_shape,padding='same'),\n",
        "  MaxPool2D(),\n",
        "  Dropout(0.3), #dropout zpobiega przseuczaniu\n",
        "  \n",
        "\n",
        "  Conv2D(filters=64, kernel_size=(3,3), activation='relu',padding='same'),\n",
        "  Conv2D(filters=64, kernel_size=(3,3), activation='relu'),\n",
        "  MaxPool2D(),\n",
        "  Dropout(0.3),\n",
        "\n",
        "  Conv2D(filters=64, kernel_size=(3,3), activation='relu', padding='same'),\n",
        "  Conv2D(filters=64, kernel_size=(3,3), activation='relu'),\n",
        "  MaxPool2D(),\n",
        "  Dropout(0.3),\n",
        "\n",
        "  Flatten(),\n",
        "\n",
        "  Dense(1024, activation='relu'),\n",
        "  Dropout(0.3),\n",
        "\n",
        "  Dense(num_classes, activation='softmax'),\n",
        "  ])\n",
        "\n",
        "#gen_cnn_v4(input_shape, num_classes).summary()\n",
        "train_and_predict(gen_cnn_v4(input_shape, num_classes))"
      ],
      "execution_count": 20,
      "outputs": [
        {
          "output_type": "stream",
          "text": [
            "Epoch 1/5\n",
            "272/272 [==============================] - 6s 22ms/step - loss: 2.4185 - accuracy: 0.3382 - val_loss: 0.8238 - val_accuracy: 0.7821\n",
            "Epoch 2/5\n",
            "272/272 [==============================] - 6s 21ms/step - loss: 0.7613 - accuracy: 0.7681 - val_loss: 0.1664 - val_accuracy: 0.9520\n",
            "Epoch 3/5\n",
            "272/272 [==============================] - 6s 21ms/step - loss: 0.3496 - accuracy: 0.8909 - val_loss: 0.0681 - val_accuracy: 0.9792\n",
            "Epoch 4/5\n",
            "272/272 [==============================] - 6s 21ms/step - loss: 0.2350 - accuracy: 0.9280 - val_loss: 0.0529 - val_accuracy: 0.9868\n",
            "Epoch 5/5\n",
            "272/272 [==============================] - 6s 21ms/step - loss: 0.1806 - accuracy: 0.9464 - val_loss: 0.0462 - val_accuracy: 0.9869\n"
          ],
          "name": "stdout"
        },
        {
          "output_type": "execute_result",
          "data": {
            "text/plain": [
              "0.9653061224489796"
            ]
          },
          "metadata": {
            "tags": []
          },
          "execution_count": 20
        }
      ]
    },
    {
      "cell_type": "code",
      "metadata": {
        "id": "ihwTUPTDXEHV",
        "colab_type": "code",
        "colab": {
          "base_uri": "https://localhost:8080/",
          "height": 204
        },
        "outputId": "de8a01ff-d65f-4987-d301-f926bd1f17a6"
      },
      "source": [
        "def gen_cnn_v5(input_shape, num_classes):\n",
        "  return  Sequential([\n",
        "  Conv2D(filters=32, kernel_size=(3,3), activation='relu', input_shape=input_shape),\n",
        "  Conv2D(filters=32, kernel_size=(3,3), activation='relu', input_shape=input_shape,padding='same'),\n",
        "  MaxPool2D(),\n",
        "  Dropout(0.3), #dropout zpobiega przseuczaniu\n",
        "  \n",
        "\n",
        "  Conv2D(filters=64, kernel_size=(3,3), activation='relu',padding='same'),\n",
        "  Conv2D(filters=64, kernel_size=(3,3), activation='relu'),\n",
        "  MaxPool2D(),\n",
        "  Dropout(0.3),\n",
        "\n",
        "  Conv2D(filters=64, kernel_size=(3,3), activation='relu', padding='same'),\n",
        "  Conv2D(filters=64, kernel_size=(3,3), activation='relu'),\n",
        "  MaxPool2D(),\n",
        "  Dropout(0.3),\n",
        "\n",
        "  Flatten(),\n",
        "\n",
        "  Dense(1024, activation='relu'),\n",
        "  Dropout(0.3),\n",
        "\n",
        "  Dense(1024, activation='relu'),\n",
        "  Dropout(0.3),\n",
        "\n",
        "  Dense(num_classes, activation='softmax'),\n",
        "  ])\n",
        "\n",
        "#gen_cnn_v4(input_shape, num_classes).summary()\n",
        "train_and_predict(gen_cnn_v5(input_shape, num_classes))"
      ],
      "execution_count": 21,
      "outputs": [
        {
          "output_type": "stream",
          "text": [
            "Epoch 1/5\n",
            "272/272 [==============================] - 6s 23ms/step - loss: 2.7041 - accuracy: 0.2712 - val_loss: 1.0279 - val_accuracy: 0.6972\n",
            "Epoch 2/5\n",
            "272/272 [==============================] - 6s 22ms/step - loss: 0.9040 - accuracy: 0.7115 - val_loss: 0.2813 - val_accuracy: 0.9300\n",
            "Epoch 3/5\n",
            "272/272 [==============================] - 6s 22ms/step - loss: 0.4331 - accuracy: 0.8636 - val_loss: 0.0941 - val_accuracy: 0.9719\n",
            "Epoch 4/5\n",
            "272/272 [==============================] - 6s 22ms/step - loss: 0.2836 - accuracy: 0.9122 - val_loss: 0.0613 - val_accuracy: 0.9804\n",
            "Epoch 5/5\n",
            "272/272 [==============================] - 6s 22ms/step - loss: 0.2056 - accuracy: 0.9394 - val_loss: 0.0371 - val_accuracy: 0.9894\n"
          ],
          "name": "stdout"
        },
        {
          "output_type": "execute_result",
          "data": {
            "text/plain": [
              "0.9639455782312926"
            ]
          },
          "metadata": {
            "tags": []
          },
          "execution_count": 21
        }
      ]
    },
    {
      "cell_type": "code",
      "metadata": {
        "id": "4ba61vOrXerL",
        "colab_type": "code",
        "colab": {
          "base_uri": "https://localhost:8080/",
          "height": 34
        },
        "outputId": "a969edc4-2625-418b-ef84-a2ea900ea861"
      },
      "source": [
        "color.rgb2gray(X_train[0]).shape # konwersja do skali szarości"
      ],
      "execution_count": 22,
      "outputs": [
        {
          "output_type": "execute_result",
          "data": {
            "text/plain": [
              "(32, 32)"
            ]
          },
          "metadata": {
            "tags": []
          },
          "execution_count": 22
        }
      ]
    },
    {
      "cell_type": "code",
      "metadata": {
        "id": "0-svePxfX05B",
        "colab_type": "code",
        "colab": {
          "base_uri": "https://localhost:8080/",
          "height": 283
        },
        "outputId": "88c29de5-28da-459e-d07b-673c9fd50ae5"
      },
      "source": [
        "plt.imshow(color.rgb2gray(X_train[0]), cmap=plt.get_cmap('gray'))"
      ],
      "execution_count": 24,
      "outputs": [
        {
          "output_type": "execute_result",
          "data": {
            "text/plain": [
              "<matplotlib.image.AxesImage at 0x7f1e6c7b16d8>"
            ]
          },
          "metadata": {
            "tags": []
          },
          "execution_count": 24
        },
        {
          "output_type": "display_data",
          "data": {
            "image/png": "[encoded data removed]",
            "text/plain": [
              "<Figure size 432x288 with 1 Axes>"
            ]
          },
          "metadata": {
            "tags": []
          }
        }
      ]
    },
    {
      "cell_type": "code",
      "metadata": {
        "id": "w8Q1kUUlYGYp",
        "colab_type": "code",
        "colab": {}
      },
      "source": [
        "X_train_gray=color.rgb2gray(X_train).reshape(-1, 32, 32,1)\n",
        "X_test_gray=color.rgb2gray(X_test).reshape(-1, 32, 32,1)"
      ],
      "execution_count": 0,
      "outputs": []
    },
    {
      "cell_type": "code",
      "metadata": {
        "id": "sSrOf4PDYc8p",
        "colab_type": "code",
        "colab": {
          "base_uri": "https://localhost:8080/",
          "height": 204
        },
        "outputId": "d6a24d4f-0dc3-40fb-8c8b-75099d61fba3"
      },
      "source": [
        "model = gen_cnn_v5((32,32,1), num_classes)\n",
        "model_trained=train_model(model, X_train_gray, y_train, params_fit={})\n",
        "predict(model_trained, X_test_gray,y_test)"
      ],
      "execution_count": 29,
      "outputs": [
        {
          "output_type": "stream",
          "text": [
            "Epoch 1/5\n",
            "272/272 [==============================] - 6s 23ms/step - loss: 2.3891 - accuracy: 0.3291 - val_loss: 0.5280 - val_accuracy: 0.8360\n",
            "Epoch 2/5\n",
            "272/272 [==============================] - 6s 22ms/step - loss: 0.4496 - accuracy: 0.8544 - val_loss: 0.0902 - val_accuracy: 0.9757\n",
            "Epoch 3/5\n",
            "272/272 [==============================] - 6s 22ms/step - loss: 0.2053 - accuracy: 0.9349 - val_loss: 0.0448 - val_accuracy: 0.9864\n",
            "Epoch 4/5\n",
            "272/272 [==============================] - 6s 22ms/step - loss: 0.1370 - accuracy: 0.9563 - val_loss: 0.0284 - val_accuracy: 0.9918\n",
            "Epoch 5/5\n",
            "272/272 [==============================] - 6s 22ms/step - loss: 0.1053 - accuracy: 0.9672 - val_loss: 0.0222 - val_accuracy: 0.9948\n"
          ],
          "name": "stdout"
        },
        {
          "output_type": "execute_result",
          "data": {
            "text/plain": [
              "0.9766439909297052"
            ]
          },
          "metadata": {
            "tags": []
          },
          "execution_count": 29
        }
      ]
    },
    {
      "cell_type": "code",
      "metadata": {
        "id": "087GcUN-aIMh",
        "colab_type": "code",
        "colab": {
          "base_uri": "https://localhost:8080/",
          "height": 283
        },
        "outputId": "4c905763-0817-455f-9636-c469ddf2cf64"
      },
      "source": [
        "plt.imshow(color.rgb2gray(X_train[0]), cmap=plt.get_cmap('gray'))"
      ],
      "execution_count": 30,
      "outputs": [
        {
          "output_type": "execute_result",
          "data": {
            "text/plain": [
              "<matplotlib.image.AxesImage at 0x7f1e4e22fb38>"
            ]
          },
          "metadata": {
            "tags": []
          },
          "execution_count": 30
        },
        {
          "output_type": "display_data",
          "data": {
            "image/png": "[encoded data removed]",
            "text/plain": [
              "<Figure size 432x288 with 1 Axes>"
            ]
          },
          "metadata": {
            "tags": []
          }
        }
      ]
    },
    {
      "cell_type": "code",
      "metadata": {
        "id": "fBFmU3PvasTw",
        "colab_type": "code",
        "colab": {}
      },
      "source": [
        ""
      ],
      "execution_count": 0,
      "outputs": []
    }
  ]
}